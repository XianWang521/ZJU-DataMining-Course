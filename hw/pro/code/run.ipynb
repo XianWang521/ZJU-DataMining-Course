{
 "cells": [
  {
   "cell_type": "markdown",
   "metadata": {},
   "source": [
    "# A Walk Through Ensemble Models\n",
    "*Complete and hand in this completed worksheet (including its outputs and any supporting code outside of the worksheet) with your assignment submission. Please check the pdf file for more details.*\n",
    "\n",
    "In this exercise you will:\n",
    "\n",
    "- get to know a useful package **pandas** for data analysis/preprocessing\n",
    "- implement **decision tree** and apply it to a Titanic dataset\n",
    "- implement a whole bunch of **ensemble methods**, including **random forest, and adaboost**, and apply them to a Titanic dataset\n",
    "\n",
    "Please note that **YOU CANNOT USE ANY MACHINE LEARNING PACKAGE SUCH AS SKLEARN** for any homework, unless you are asked to."
   ]
  },
  {
   "cell_type": "code",
   "execution_count": 1,
   "metadata": {},
   "outputs": [],
   "source": [
    "# some basic imports\n",
    "from scipy import io\n",
    "import pandas as pd\n",
    "import numpy as np\n",
    "import matplotlib.pyplot as plt\n",
    "import math\n",
    "import re\n",
    "\n",
    "%matplotlib inline\n",
    "\n",
    "%load_ext autoreload\n",
    "%autoreload 2"
   ]
  },
  {
   "cell_type": "markdown",
   "metadata": {},
   "source": [
    "## Let's first do some data preprocessing\n",
    "\n",
    "Here we use [pandas](https://pandas.pydata.org/) to do data preprocessing. Pandas is a very popular and handy package for data science or machine learning. You can also refer to this official guide for pandas: [10 minutes to pandas](https://pandas.pydata.org/pandas-docs/stable/getting_started/10min.html)"
   ]
  },
  {
   "cell_type": "code",
   "execution_count": 2,
   "metadata": {},
   "outputs": [
    {
     "name": "stdout",
     "output_type": "stream",
     "text": [
      "train shape: (1047, 11) test shape: (262, 11)\n"
     ]
    },
    {
     "data": {
      "text/html": [
       "<div>\n",
       "<style scoped>\n",
       "    .dataframe tbody tr th:only-of-type {\n",
       "        vertical-align: middle;\n",
       "    }\n",
       "\n",
       "    .dataframe tbody tr th {\n",
       "        vertical-align: top;\n",
       "    }\n",
       "\n",
       "    .dataframe thead th {\n",
       "        text-align: right;\n",
       "    }\n",
       "</style>\n",
       "<table border=\"1\" class=\"dataframe\">\n",
       "  <thead>\n",
       "    <tr style=\"text-align: right;\">\n",
       "      <th></th>\n",
       "      <th>Pclass</th>\n",
       "      <th>Survived</th>\n",
       "      <th>Name</th>\n",
       "      <th>Sex</th>\n",
       "      <th>Age</th>\n",
       "      <th>SibSp</th>\n",
       "      <th>Parch</th>\n",
       "      <th>Ticket</th>\n",
       "      <th>Fare</th>\n",
       "      <th>Cabin</th>\n",
       "      <th>Embarked</th>\n",
       "    </tr>\n",
       "  </thead>\n",
       "  <tbody>\n",
       "    <tr>\n",
       "      <th>0</th>\n",
       "      <td>1</td>\n",
       "      <td>1</td>\n",
       "      <td>Hays, Miss. Margaret Bechstein</td>\n",
       "      <td>female</td>\n",
       "      <td>24.0</td>\n",
       "      <td>0</td>\n",
       "      <td>0</td>\n",
       "      <td>11767</td>\n",
       "      <td>83.1583</td>\n",
       "      <td>C54</td>\n",
       "      <td>C</td>\n",
       "    </tr>\n",
       "    <tr>\n",
       "      <th>1</th>\n",
       "      <td>3</td>\n",
       "      <td>0</td>\n",
       "      <td>Holm, Mr. John Fredrik Alexander</td>\n",
       "      <td>male</td>\n",
       "      <td>43.0</td>\n",
       "      <td>0</td>\n",
       "      <td>0</td>\n",
       "      <td>C 7075</td>\n",
       "      <td>6.4500</td>\n",
       "      <td>NaN</td>\n",
       "      <td>S</td>\n",
       "    </tr>\n",
       "    <tr>\n",
       "      <th>2</th>\n",
       "      <td>3</td>\n",
       "      <td>0</td>\n",
       "      <td>Hansen, Mr. Claus Peter</td>\n",
       "      <td>male</td>\n",
       "      <td>41.0</td>\n",
       "      <td>2</td>\n",
       "      <td>0</td>\n",
       "      <td>350026</td>\n",
       "      <td>14.1083</td>\n",
       "      <td>NaN</td>\n",
       "      <td>S</td>\n",
       "    </tr>\n",
       "  </tbody>\n",
       "</table>\n",
       "</div>"
      ],
      "text/plain": [
       "   Pclass  Survived                              Name     Sex   Age  SibSp  \\\n",
       "0       1         1    Hays, Miss. Margaret Bechstein  female  24.0      0   \n",
       "1       3         0  Holm, Mr. John Fredrik Alexander    male  43.0      0   \n",
       "2       3         0           Hansen, Mr. Claus Peter    male  41.0      2   \n",
       "\n",
       "   Parch  Ticket     Fare Cabin Embarked  \n",
       "0      0   11767  83.1583   C54        C  \n",
       "1      0  C 7075   6.4500   NaN        S  \n",
       "2      0  350026  14.1083   NaN        S  "
      ]
     },
     "execution_count": 2,
     "metadata": {},
     "output_type": "execute_result"
    }
   ],
   "source": [
    "# read titanic train and test data\n",
    "train = pd.read_csv('./input/train.csv')\n",
    "test = pd.read_csv('./input/test.csv')\n",
    "\n",
    "print(\"train shape: {} test shape: {}\".format(train.shape, test.shape))\n",
    "# Showing overview of the train dataset\n",
    "train.head(3)"
   ]
  },
  {
   "cell_type": "markdown",
   "metadata": {},
   "source": [
    "## deal with missing values and transform to discrete variables"
   ]
  },
  {
   "cell_type": "code",
   "execution_count": 3,
   "metadata": {},
   "outputs": [],
   "source": [
    "# copied from: https://www.kaggle.com/dmilla/introduction-to-decision-trees-titanic-dataset\n",
    "full_data = [train, test]\n",
    "\n",
    "# Feature that tells whether a passenger had a cabin on the Titanic\n",
    "train['Has_Cabin'] = train[\"Cabin\"].apply(lambda x: 0 if type(x) == float else 1)\n",
    "test['Has_Cabin'] = test[\"Cabin\"].apply(lambda x: 0 if type(x) == float else 1)\n",
    "\n",
    "# Create new feature FamilySize as a combination of SibSp and Parch\n",
    "for dataset in full_data:\n",
    "    dataset['FamilySize'] = dataset['SibSp'] + dataset['Parch'] + 1\n",
    "# Create new feature IsAlone from FamilySize\n",
    "for dataset in full_data:\n",
    "    dataset['IsAlone'] = 0\n",
    "    dataset.loc[dataset['FamilySize'] == 1, 'IsAlone'] = 1\n",
    "# Remove all NULLS in the Embarked column\n",
    "for dataset in full_data:\n",
    "    dataset['Embarked'] = dataset['Embarked'].fillna('S')\n",
    "# Remove all NULLS in the Fare column\n",
    "for dataset in full_data:\n",
    "    dataset['Fare'] = dataset['Fare'].fillna(train['Fare'].median())\n",
    "\n",
    "# Remove all NULLS in the Age column\n",
    "for dataset in full_data:\n",
    "    age_avg = dataset['Age'].mean()\n",
    "    age_std = dataset['Age'].std()\n",
    "    age_null_count = dataset['Age'].isnull().sum()\n",
    "    age_null_random_list = np.random.randint(age_avg - age_std, age_avg + age_std, size=age_null_count)\n",
    "    # Next line has been improved to avoid warning\n",
    "    dataset.loc[np.isnan(dataset['Age']), 'Age'] = age_null_random_list\n",
    "    dataset['Age'] = dataset['Age'].astype(int)\n",
    "\n",
    "# Define function to extract titles from passenger names\n",
    "def get_title(name):\n",
    "    title_search = re.search(' ([A-Za-z]+)\\.', name)\n",
    "    # If the title exists, extract and return it.\n",
    "    if title_search:\n",
    "        return title_search.group(1)\n",
    "    return \"\"\n",
    "\n",
    "for dataset in full_data:\n",
    "    dataset['Title'] = dataset['Name'].apply(get_title)\n",
    "# Group all non-common titles into one single grouping \"Rare\"\n",
    "for dataset in full_data:\n",
    "    dataset['Title'] = dataset['Title'].replace(['Lady', 'Countess','Capt', 'Col','Don', 'Dr', 'Major', 'Rev', 'Sir', 'Jonkheer', 'Dona'], 'Rare')\n",
    "\n",
    "    dataset['Title'] = dataset['Title'].replace('Mlle', 'Miss')\n",
    "    dataset['Title'] = dataset['Title'].replace('Ms', 'Miss')\n",
    "    dataset['Title'] = dataset['Title'].replace('Mme', 'Mrs')\n",
    "\n",
    "for dataset in full_data:\n",
    "    # Mapping Sex\n",
    "    dataset['Sex'] = dataset['Sex'].map( {'female': 0, 'male': 1} ).astype(int)\n",
    "    \n",
    "    # Mapping titles\n",
    "    title_mapping = {\"Mr\": 1, \"Master\": 2, \"Mrs\": 3, \"Miss\": 4, \"Rare\": 5}\n",
    "    dataset['Title'] = dataset['Title'].map(title_mapping)\n",
    "    dataset['Title'] = dataset['Title'].fillna(0)\n",
    "\n",
    "    # Mapping Embarked\n",
    "    dataset['Embarked'] = dataset['Embarked'].map( {'S': 0, 'C': 1, 'Q': 2} ).astype(int)\n",
    "    \n",
    "    # Mapping Fare\n",
    "    dataset.loc[ dataset['Fare'] <= 7.91, 'Fare'] = 0\n",
    "    dataset.loc[(dataset['Fare'] > 7.91) & (dataset['Fare'] <= 14.454), 'Fare'] = 1\n",
    "    dataset.loc[(dataset['Fare'] > 14.454) & (dataset['Fare'] <= 31), 'Fare'] = 2\n",
    "    dataset.loc[ dataset['Fare'] > 31, 'Fare'] = 3\n",
    "    dataset['Fare'] = dataset['Fare'].astype(int)\n",
    "    \n",
    "    # Mapping Age\n",
    "    dataset.loc[ dataset['Age'] <= 16, 'Age'] = 0\n",
    "    dataset.loc[(dataset['Age'] > 16) & (dataset['Age'] <= 32), 'Age'] = 1\n",
    "    dataset.loc[(dataset['Age'] > 32) & (dataset['Age'] <= 48), 'Age'] = 2\n",
    "    dataset.loc[(dataset['Age'] > 48) & (dataset['Age'] <= 64), 'Age'] = 3\n",
    "    dataset.loc[ dataset['Age'] > 64, 'Age'] = 4"
   ]
  },
  {
   "cell_type": "code",
   "execution_count": 4,
   "metadata": {},
   "outputs": [],
   "source": [
    "drop_elements = ['Name', 'Ticket', 'Cabin', 'SibSp']\n",
    "train = train.drop(drop_elements, axis = 1)\n",
    "test  = test.drop(drop_elements, axis = 1)"
   ]
  },
  {
   "cell_type": "code",
   "execution_count": 5,
   "metadata": {},
   "outputs": [
    {
     "data": {
      "text/html": [
       "<div>\n",
       "<style scoped>\n",
       "    .dataframe tbody tr th:only-of-type {\n",
       "        vertical-align: middle;\n",
       "    }\n",
       "\n",
       "    .dataframe tbody tr th {\n",
       "        vertical-align: top;\n",
       "    }\n",
       "\n",
       "    .dataframe thead th {\n",
       "        text-align: right;\n",
       "    }\n",
       "</style>\n",
       "<table border=\"1\" class=\"dataframe\">\n",
       "  <thead>\n",
       "    <tr style=\"text-align: right;\">\n",
       "      <th></th>\n",
       "      <th>Pclass</th>\n",
       "      <th>Survived</th>\n",
       "      <th>Sex</th>\n",
       "      <th>Age</th>\n",
       "      <th>Parch</th>\n",
       "      <th>Fare</th>\n",
       "      <th>Embarked</th>\n",
       "      <th>Has_Cabin</th>\n",
       "      <th>FamilySize</th>\n",
       "      <th>IsAlone</th>\n",
       "      <th>Title</th>\n",
       "    </tr>\n",
       "  </thead>\n",
       "  <tbody>\n",
       "    <tr>\n",
       "      <th>0</th>\n",
       "      <td>1</td>\n",
       "      <td>1</td>\n",
       "      <td>0</td>\n",
       "      <td>1</td>\n",
       "      <td>0</td>\n",
       "      <td>3</td>\n",
       "      <td>1</td>\n",
       "      <td>1</td>\n",
       "      <td>1</td>\n",
       "      <td>1</td>\n",
       "      <td>4</td>\n",
       "    </tr>\n",
       "    <tr>\n",
       "      <th>1</th>\n",
       "      <td>3</td>\n",
       "      <td>0</td>\n",
       "      <td>1</td>\n",
       "      <td>2</td>\n",
       "      <td>0</td>\n",
       "      <td>0</td>\n",
       "      <td>0</td>\n",
       "      <td>0</td>\n",
       "      <td>1</td>\n",
       "      <td>1</td>\n",
       "      <td>1</td>\n",
       "    </tr>\n",
       "    <tr>\n",
       "      <th>2</th>\n",
       "      <td>3</td>\n",
       "      <td>0</td>\n",
       "      <td>1</td>\n",
       "      <td>2</td>\n",
       "      <td>0</td>\n",
       "      <td>1</td>\n",
       "      <td>0</td>\n",
       "      <td>0</td>\n",
       "      <td>3</td>\n",
       "      <td>0</td>\n",
       "      <td>1</td>\n",
       "    </tr>\n",
       "    <tr>\n",
       "      <th>3</th>\n",
       "      <td>3</td>\n",
       "      <td>0</td>\n",
       "      <td>1</td>\n",
       "      <td>1</td>\n",
       "      <td>0</td>\n",
       "      <td>0</td>\n",
       "      <td>2</td>\n",
       "      <td>0</td>\n",
       "      <td>1</td>\n",
       "      <td>1</td>\n",
       "      <td>1</td>\n",
       "    </tr>\n",
       "    <tr>\n",
       "      <th>4</th>\n",
       "      <td>2</td>\n",
       "      <td>0</td>\n",
       "      <td>1</td>\n",
       "      <td>2</td>\n",
       "      <td>0</td>\n",
       "      <td>1</td>\n",
       "      <td>0</td>\n",
       "      <td>0</td>\n",
       "      <td>1</td>\n",
       "      <td>1</td>\n",
       "      <td>1</td>\n",
       "    </tr>\n",
       "  </tbody>\n",
       "</table>\n",
       "</div>"
      ],
      "text/plain": [
       "   Pclass  Survived  Sex  Age  Parch  Fare  Embarked  Has_Cabin  FamilySize  \\\n",
       "0       1         1    0    1      0     3         1          1           1   \n",
       "1       3         0    1    2      0     0         0          0           1   \n",
       "2       3         0    1    2      0     1         0          0           3   \n",
       "3       3         0    1    1      0     0         2          0           1   \n",
       "4       2         0    1    2      0     1         0          0           1   \n",
       "\n",
       "   IsAlone  Title  \n",
       "0        1      4  \n",
       "1        1      1  \n",
       "2        0      1  \n",
       "3        1      1  \n",
       "4        1      1  "
      ]
     },
     "execution_count": 5,
     "metadata": {},
     "output_type": "execute_result"
    }
   ],
   "source": [
    "train.head()"
   ]
  },
  {
   "cell_type": "markdown",
   "metadata": {},
   "source": [
    "One of the good thing of pd.DataFrame is that you can keep the column names along with the data, which can be beneficial for many case.\n",
    "\n",
    "Another good thing is that pd.DataFrame can be converted to np.array implicitely.\n",
    "\n",
    "Also, pd provides a lot of useful data manipulating methods for your convenience, though we may not use them in this homework."
   ]
  },
  {
   "cell_type": "code",
   "execution_count": 6,
   "metadata": {},
   "outputs": [
    {
     "name": "stdout",
     "output_type": "stream",
     "text": [
      "train: (1047, 10), test: (262, 10)\n"
     ]
    }
   ],
   "source": [
    "X = train.drop(['Survived'], axis=1)\n",
    "y = train[\"Survived\"]\n",
    "X_test = test.drop(['Survived'], axis=1)\n",
    "y_test = test[\"Survived\"]\n",
    "print(\"train: {}, test: {}\".format(X.shape, X_test.shape))"
   ]
  },
  {
   "cell_type": "code",
   "execution_count": 7,
   "metadata": {},
   "outputs": [],
   "source": [
    "def accuracy(y_gt, y_pred):\n",
    "    return np.sum(y_gt == y_pred) / y_gt.shape[0]"
   ]
  },
  {
   "cell_type": "code",
   "execution_count": 8,
   "metadata": {},
   "outputs": [
    {
     "name": "stdout",
     "output_type": "stream",
     "text": [
      "Survived: 0.3878, Not Survivied: 0.6122\n"
     ]
    }
   ],
   "source": [
    "print(\"Survived: {:.4f}, Not Survivied: {:.4f}\".format(y.sum() / len(y), 1 - y.sum() / len(y)))"
   ]
  },
  {
   "cell_type": "markdown",
   "metadata": {},
   "source": [
    "## Decision Tree\n",
    "Now it's your turn to do some real coding. Please implement the decision tree model in **decision_tree.py**. The PDF file provides some hints for this part."
   ]
  },
  {
   "cell_type": "code",
   "execution_count": 9,
   "metadata": {},
   "outputs": [
    {
     "name": "stdout",
     "output_type": "stream",
     "text": [
      "Accuracy on train set: 0.8233046800382043\n"
     ]
    },
    {
     "data": {
      "image/png": "[encoded data removed]",
      "text/plain": [
       "<Figure size 1440x720 with 1 Axes>"
      ]
     },
     "metadata": {},
     "output_type": "display_data"
    }
   ],
   "source": [
    "from decision_tree import DecisionTree\n",
    "\n",
    "dt = DecisionTree(criterion='entropy', max_depth=4, min_samples_leaf=2, sample_feature=False)\n",
    "dt.fit(X, y)\n",
    "\n",
    "y_train_pred = dt.predict(X)\n",
    "print(\"Accuracy on train set: {}\".format(accuracy(y, y_train_pred)))\n",
    "\n",
    "# Plot the decision tree to get an intuition about how it makes decision\n",
    "plt.figure(figsize=(20, 10))\n",
    "dt.show()"
   ]
  },
  {
   "cell_type": "code",
   "execution_count": 39,
   "metadata": {},
   "outputs": [
    {
     "name": "stdout",
     "output_type": "stream",
     "text": [
      "best_criter: infogain_ratio, best_depth: 4, best_leaves: 1\n",
      "Training error rate: 0.16714422158548237\n",
      "Validation error rate: 0.19102196752626555\n"
     ]
    }
   ],
   "source": [
    "# TODO: Train the best DecisionTree(best val accuracy) that you can. You should choose some \n",
    "# hyper-parameters such as critertion, max_depth, and min_samples_in_leaf \n",
    "# according to the cross-validation result.\n",
    "# To reduce difficulty, you can use KFold here.\n",
    "from sklearn.model_selection import KFold\n",
    "kf = KFold(n_splits=5, shuffle=True, random_state=2020)\n",
    "criters = ['infogain_ratio', 'entropy', 'gini']\n",
    "best_criter = criters[0]\n",
    "best_depth = 3\n",
    "best_leaves = 2\n",
    "best_accuracy = 0.0\n",
    "\n",
    "for depth in range(3, 9):\n",
    "    for leaves in range(1, 10):\n",
    "        for criter in criters:\n",
    "            dt = DecisionTree(criterion=criter, max_depth=depth, min_samples_leaf=leaves, sample_feature=False)\n",
    "            predict = np.zeros(len(X))\n",
    "            for train_indice, valid_indice in kf.split(X, y):\n",
    "                X_train_fold, y_train_fold = X.loc[train_indice], y.loc[train_indice]\n",
    "                X_val_fold, y_val_fold = X.loc[valid_indice], y.loc[valid_indice]\n",
    "                dt.fit(X_train_fold, y_train_fold)\n",
    "                predict[valid_indice] = dt.predict(X_val_fold)\n",
    "            accuracy_now = accuracy(y, predict)\n",
    "            if accuracy_now > best_accuracy:\n",
    "                best_criter = criter\n",
    "                best_depth = depth\n",
    "                best_leaves = leaves\n",
    "                best_accuracy = accuracy_now\n",
    "print(\"best_criter: {}, best_depth: {}, best_leaves: {}\".format(best_criter, best_depth, best_leaves))\n",
    "\n",
    "# begin answer\n",
    "print(\"Training error rate: {}\".format(1 - accuracy(y, dt.predict(X))))\n",
    "print(\"Validation error rate: {}\".format(1 - best_accuracy))\n",
    "# end answer"
   ]
  },
  {
   "cell_type": "code",
   "execution_count": 40,
   "metadata": {},
   "outputs": [
    {
     "name": "stdout",
     "output_type": "stream",
     "text": [
      "Accuracy on train set: 0.8127984718242598\n",
      "Accuracy on test set: 0.7900763358778626\n"
     ]
    }
   ],
   "source": [
    "# report the accuracy on test set\n",
    "dt = DecisionTree(criterion = best_criter, max_depth = best_depth, min_samples_leaf = best_leaves, sample_feature = False)\n",
    "dt.fit(X, y)\n",
    "print(\"Accuracy on train set: {}\".format(accuracy(y, dt.predict(X))))\n",
    "print(\"Accuracy on test set: {}\".format(accuracy(y_test, dt.predict(X_test))))"
   ]
  },
  {
   "cell_type": "markdown",
   "metadata": {},
   "source": [
    "## Random Forest\n",
    "Please implement the random forest model in **random_forest.py**. The PDF file provides some hints for this part."
   ]
  },
  {
   "cell_type": "code",
   "execution_count": 11,
   "metadata": {},
   "outputs": [
    {
     "name": "stdout",
     "output_type": "stream",
     "text": [
      "Accuracy on train set: 0.7851002865329513\n"
     ]
    }
   ],
   "source": [
    "from random_forest import RandomForest\n",
    "\n",
    "base_learner = DecisionTree(criterion='entropy', max_depth=4, min_samples_leaf=2, sample_feature=True)\n",
    "rf = RandomForest(base_learner=base_learner, n_estimator=10, seed=2020)\n",
    "rf.fit(X, y)\n",
    "\n",
    "y_train_pred = rf.predict(X)\n",
    "\n",
    "print(\"Accuracy on train set: {}\".format(accuracy(y, y_train_pred)))"
   ]
  },
  {
   "cell_type": "code",
   "execution_count": 12,
   "metadata": {},
   "outputs": [
    {
     "name": "stdout",
     "output_type": "stream",
     "text": [
      "temp_estimator: 10, temp_criter: entropy, temp_depth: 7, temp_leaves: 3\n",
      "Training error rate: 0.1614135625596944\n",
      "Validation error rate: 0.20248328557784145\n",
      "temp_estimator: 100, temp_criter: entropy, temp_depth: 7, temp_leaves: 4\n",
      "Training error rate: 0.15090735434574976\n",
      "Validation error rate: 0.19866284622731611\n",
      "best_estimator: 100, best_criter: entropy, best_depth: 7, best_leaves: 4\n"
     ]
    }
   ],
   "source": [
    "# TODO: Train the best RandomForest that you can. You should choose some \n",
    "# hyper-parameters such as max_depth, and min_samples_in_leaf \n",
    "# according to the cross-validation result.\n",
    "from sklearn.model_selection import KFold\n",
    "kf = KFold(n_splits=5, shuffle=True, random_state=2020)\n",
    "criters = ['infogain_ratio', 'entropy', 'gini']\n",
    "estimators = [10, 100]\n",
    "best_criter = criters[0]\n",
    "best_estimator = estimators[0]\n",
    "best_depth = 3\n",
    "best_leaves = 2\n",
    "best_accuracy = 0.0\n",
    "\n",
    "for n_estimator in estimators:\n",
    "    temp_accuracy = 0.0\n",
    "    for depth in range(4, 8):\n",
    "        for leaves in range(1, 5):\n",
    "            for criter in criters:\n",
    "                base_learner = DecisionTree(criterion=criter, max_depth=depth, min_samples_leaf=leaves, sample_feature=True)\n",
    "                rf = RandomForest(base_learner=base_learner, n_estimator=n_estimator, seed=2020)\n",
    "                predict = np.zeros(len(X))\n",
    "                for train_indice, valid_indice in kf.split(X, y):\n",
    "                    X_train_fold, y_train_fold = X.loc[train_indice], y.loc[train_indice]\n",
    "                    X_val_fold, y_val_fold = X.loc[valid_indice], y.loc[valid_indice]\n",
    "                    rf.fit(X_train_fold, y_train_fold)\n",
    "                    predict[valid_indice] = rf.predict(X_val_fold)\n",
    "                accuracy_now = accuracy(y, predict)\n",
    "                if accuracy_now > temp_accuracy:\n",
    "                    temp_criter = criter\n",
    "                    temp_estimator = n_estimator\n",
    "                    temp_depth = depth\n",
    "                    temp_leaves = leaves\n",
    "                    temp_accuracy = accuracy_now\n",
    "    print(\"temp_estimator: {}, temp_criter: {}, temp_depth: {}, temp_leaves: {}\".format(temp_estimator, temp_criter, temp_depth, temp_leaves))\n",
    "    print(\"Training error rate: {}\".format(1 - accuracy(y, rf.predict(X))))\n",
    "    print(\"Validation error rate: {}\".format(1 - temp_accuracy))\n",
    "    if(temp_accuracy > best_accuracy):\n",
    "        best_criter = temp_criter\n",
    "        best_estimator = temp_estimator\n",
    "        best_depth = temp_depth\n",
    "        best_leaves = temp_leaves\n",
    "        best_accuracy = temp_accuracy\n",
    "\n",
    "print(\"best_estimator: {}, best_criter: {}, best_depth: {}, best_leaves: {}\".format(best_estimator, best_criter, best_depth, best_leaves))"
   ]
  },
  {
   "cell_type": "code",
   "execution_count": 13,
   "metadata": {},
   "outputs": [
    {
     "name": "stdout",
     "output_type": "stream",
     "text": [
      "Accuracy on train set: 0.8519579751671442\n",
      "Accuracy on test set: 0.8015267175572519\n"
     ]
    }
   ],
   "source": [
    "# report the accuracy on test set\n",
    "# begin answer\n",
    "base_learner = DecisionTree(criterion = best_criter, max_depth = best_depth, min_samples_leaf = best_leaves, sample_feature = True)\n",
    "rf = RandomForest(base_learner = base_learner, n_estimator = best_estimator, seed = 2020)\n",
    "# end answer\n",
    "rf.fit(X, y)\n",
    "print(\"Accuracy on train set: {}\".format(accuracy(y, rf.predict(X))))\n",
    "print(\"Accuracy on test set: {}\".format(accuracy(y_test, rf.predict(X_test))))"
   ]
  },
  {
   "cell_type": "code",
   "execution_count": 23,
   "metadata": {},
   "outputs": [
    {
     "name": "stdout",
     "output_type": "stream",
     "text": [
      "Random Forest\n",
      "Accuracy on train set: 0.8061127029608405\n",
      "Accuracy on test set: 0.8053435114503816\n",
      "Decision Tree\n",
      "Accuracy on train set: 0.8127984718242598\n",
      "Accuracy on test set: 0.7900763358778626\n"
     ]
    }
   ],
   "source": [
    "print(\"Random Forest\")\n",
    "base_learner = DecisionTree(criterion = \"infogain_ratio\", max_depth = 4, min_samples_leaf = 1, sample_feature = True)\n",
    "rf = RandomForest(base_learner = base_learner, n_estimator = 100, seed = 2020)\n",
    "rf.fit(X, y)\n",
    "print(\"Accuracy on train set: {}\".format(accuracy(y, rf.predict(X))))\n",
    "print(\"Accuracy on test set: {}\".format(accuracy(y_test, rf.predict(X_test))))\n",
    "print(\"Decision Tree\")\n",
    "dt = DecisionTree(criterion = \"infogain_ratio\", max_depth = 4, min_samples_leaf = 1, sample_feature = False)\n",
    "dt.fit(X, y)\n",
    "print(\"Accuracy on train set: {}\".format(accuracy(y, dt.predict(X))))\n",
    "print(\"Accuracy on test set: {}\".format(accuracy(y_test, dt.predict(X_test))))"
   ]
  },
  {
   "cell_type": "markdown",
   "metadata": {},
   "source": [
    "## Adaboost\n",
    "Please implement the adaboost model in **adaboost.py**. The PDF file provides some hints for this part."
   ]
  },
  {
   "cell_type": "code",
   "execution_count": 10,
   "metadata": {},
   "outputs": [
    {
     "name": "stdout",
     "output_type": "stream",
     "text": [
      "Accuracy on train set: 0.8319006685768864\n"
     ]
    }
   ],
   "source": [
    "from adaboost import Adaboost\n",
    "\n",
    "base_learner = DecisionTree(criterion='entropy', max_depth=4, min_samples_leaf=1, sample_feature=False)\n",
    "ada = Adaboost(base_learner=base_learner, n_estimator=50, seed=2020)\n",
    "ada.fit(X, y)\n",
    "\n",
    "y_train_pred = ada.predict(X)\n",
    "\n",
    "print(\"Accuracy on train set: {}\".format(accuracy(y, y_train_pred)))"
   ]
  },
  {
   "cell_type": "code",
   "execution_count": 11,
   "metadata": {},
   "outputs": [
    {
     "name": "stdout",
     "output_type": "stream",
     "text": [
      "0.7621776504297995\n",
      "0.7984718242597899\n",
      "0.7984718242597899\n",
      "temp_estimator: 10, temp_criter: gini, temp_depth: 3, temp_leaves: 1\n",
      "Training error rate: 0.17000955109837634\n",
      "Validation error rate: 0.2015281757402101\n",
      "0.7621776504297995\n",
      "0.7984718242597899\n",
      "0.7984718242597899\n",
      "temp_estimator: 100, temp_criter: gini, temp_depth: 3, temp_leaves: 1\n",
      "Training error rate: 0.1709646609360076\n",
      "Validation error rate: 0.2015281757402101\n",
      "best_estimator: 10, best_criter: gini, best_depth: 3, best_leaves: 1\n"
     ]
    }
   ],
   "source": [
    "# TODO: Train the best Adaboost that you can. You should choose some \n",
    "# hyper-parameters such as max_depth, and min_samples_in_leaf \n",
    "# according to the cross-validation result.\n",
    "# begin answer\n",
    "from sklearn.model_selection import KFold\n",
    "kf = KFold(n_splits=5, shuffle=True, random_state=2020)\n",
    "criters = ['infogain_ratio', 'entropy', 'gini']\n",
    "estimators = [10, 100]\n",
    "best_criter = criters[0]\n",
    "best_estimator = estimators[0]\n",
    "best_depth = 3\n",
    "best_leaves = 2\n",
    "best_accuracy = 0.0\n",
    "\n",
    "for n_estimator in estimators:\n",
    "    temp_accuracy = 0.0\n",
    "    for depth in range(2, 5):\n",
    "        for leaves in range(1, 4):\n",
    "            for criter in criters:\n",
    "                base_learner = DecisionTree(criterion=criter, max_depth=depth, min_samples_leaf=leaves, sample_feature=False)\n",
    "                ada = Adaboost(base_learner=base_learner, n_estimator=n_estimator, seed=2020)\n",
    "                predict = np.zeros(len(X))\n",
    "                for train_indice, valid_indice in kf.split(X, y):\n",
    "                    X_train_fold, y_train_fold = X.loc[train_indice], y.loc[train_indice]\n",
    "                    X_val_fold, y_val_fold = X.loc[valid_indice], y.loc[valid_indice]\n",
    "                    ada.fit(X_train_fold, y_train_fold)\n",
    "                    predict[valid_indice] = ada.predict(X_val_fold)\n",
    "                accuracy_now = accuracy(y, predict)\n",
    "                if accuracy_now > temp_accuracy:\n",
    "                    temp_criter = criter\n",
    "                    temp_estimator = n_estimator\n",
    "                    temp_depth = depth\n",
    "                    temp_leaves = leaves\n",
    "                    temp_accuracy = accuracy_now\n",
    "        print(temp_accuracy)\n",
    "    print(\"temp_estimator: {}, temp_criter: {}, temp_depth: {}, temp_leaves: {}\".format(temp_estimator, temp_criter, temp_depth, temp_leaves))\n",
    "    print(\"Training error rate: {}\".format(1 - accuracy(y, ada.predict(X))))\n",
    "    print(\"Validation error rate: {}\".format(1 - temp_accuracy))\n",
    "    if(temp_accuracy > best_accuracy):\n",
    "        best_criter = temp_criter\n",
    "        best_estimator = temp_estimator\n",
    "        best_depth = temp_depth\n",
    "        best_leaves = temp_leaves\n",
    "        best_accuracy = temp_accuracy\n",
    "\n",
    "print(\"best_estimator: {}, best_criter: {}, best_depth: {}, best_leaves: {}\".format(best_estimator, best_criter, best_depth, best_leaves))\n",
    "# end answer"
   ]
  },
  {
   "cell_type": "code",
   "execution_count": 12,
   "metadata": {},
   "outputs": [
    {
     "name": "stdout",
     "output_type": "stream",
     "text": [
      "Accuracy on train set: 0.8127984718242598\n",
      "Accuracy on test set: 0.8129770992366412\n"
     ]
    }
   ],
   "source": [
    "# report the accuracy on test set\n",
    "# begin answer\n",
    "base_learner = DecisionTree(criterion = best_criter, max_depth = best_depth, min_samples_leaf = best_leaves, sample_feature = False)\n",
    "ada = Adaboost(base_learner = base_learner, n_estimator = best_estimator, seed = 2020)\n",
    "# end answer\n",
    "ada.fit(X, y)\n",
    "print(\"Accuracy on train set: {}\".format(accuracy(y, ada.predict(X))))\n",
    "print(\"Accuracy on test set: {}\".format(accuracy(y_test, ada.predict(X_test))))"
   ]
  },
  {
   "cell_type": "code",
   "execution_count": 30,
   "metadata": {},
   "outputs": [
    {
     "name": "stdout",
     "output_type": "stream",
     "text": [
      "Adaboost\n",
      "Accuracy on train set: 0.8127984718242598\n",
      "Accuracy on test set: 0.8129770992366412\n",
      "Decision Tree\n",
      "Accuracy on train set: 0.8127984718242598\n",
      "Accuracy on test set: 0.7900763358778626\n"
     ]
    }
   ],
   "source": [
    "print(\"Adaboost\")\n",
    "base_learner = DecisionTree(criterion = \"gini\", max_depth = 3, min_samples_leaf = 1, sample_feature = False)\n",
    "ada = Adaboost(base_learner = base_learner, n_estimator = 10, seed = 2020)\n",
    "ada.fit(X, y)\n",
    "print(\"Accuracy on train set: {}\".format(accuracy(y, ada.predict(X))))\n",
    "print(\"Accuracy on test set: {}\".format(accuracy(y_test, ada.predict(X_test))))\n",
    "print(\"Decision Tree\")\n",
    "dt = DecisionTree(criterion = \"infogain_ratio\", max_depth = 4, min_samples_leaf = 1, sample_feature = False)\n",
    "dt.fit(X, y)\n",
    "print(\"Accuracy on train set: {}\".format(accuracy(y, dt.predict(X))))\n",
    "print(\"Accuracy on test set: {}\".format(accuracy(y_test, dt.predict(X_test))))"
   ]
  },
  {
   "cell_type": "markdown",
   "metadata": {},
   "source": [
    "## Comparsion\n",
    "Report the result of all learned classiers like: naive bayes, perception, logistic regression, SVM, neural network, KNN, decision tree, random forest, adaboost (It is better to use your own implementation, or you can use sklearn here). And state their advantages and disadvantages."
   ]
  },
  {
   "cell_type": "code",
   "execution_count": 41,
   "metadata": {},
   "outputs": [
    {
     "name": "stdout",
     "output_type": "stream",
     "text": [
      "navie bayes:\n",
      "0.7621776504297993\n",
      "perceptron:\n",
      "0.7039159503342884\n",
      "logistic regression:\n",
      "0.7803247373447947\n",
      "SVM:\n",
      "0.7774594078319007\n",
      "neural network:\n",
      "0.7831900668576885\n",
      "KNN:\n",
      "0.7793696275071632\n",
      "decision tree:\n",
      "0.8091603053435115\n",
      "random forest:\n",
      "0.7765042979942693\n",
      "adaboost:\n",
      "0.8022922636103152\n"
     ]
    }
   ],
   "source": [
    "# https://scikit-learn.org/stable/modules/classes.html\n",
    "from sklearn.naive_bayes import GaussianNB\n",
    "from sklearn.linear_model import Perceptron\n",
    "from sklearn.linear_model import LogisticRegression\n",
    "from sklearn.svm import SVC\n",
    "from sklearn.neural_network import MLPClassifier\n",
    "from sklearn.neighbors import KNeighborsClassifier\n",
    "from sklearn.tree import DecisionTreeClassifier\n",
    "from sklearn.ensemble import RandomForestClassifier\n",
    "from sklearn.ensemble import AdaBoostClassifier\n",
    "from sklearn.model_selection import cross_val_score\n",
    "\n",
    "print(\"navie bayes:\")\n",
    "naive_bayes = GaussianNB()\n",
    "print(cross_val_score(naive_bayes, X, y, cv = 3).mean())\n",
    "\n",
    "print(\"perceptron:\")\n",
    "perceptron = Perceptron()\n",
    "print(cross_val_score(perceptron, X, y, cv = 3).mean())\n",
    "\n",
    "print(\"logistic regression:\")\n",
    "logistic_regression = LogisticRegression(C = 1)\n",
    "print(cross_val_score(logistic_regression, X, y, cv = 3).mean())\n",
    "\n",
    "print(\"SVM:\")\n",
    "svm = SVC(C = 1, kernel = 'rbf', gamma = 1)\n",
    "print(cross_val_score(svm, X, y, cv = 3).mean())\n",
    "\n",
    "print(\"neural network:\")\n",
    "neural_network = MLPClassifier(activation='relu', alpha=0.0001, max_iter = 1000)\n",
    "print(cross_val_score(neural_network, X, y, cv = 3).mean())\n",
    "\n",
    "print(\"KNN:\")\n",
    "knn = KNeighborsClassifier(n_neighbors = 5)\n",
    "print(cross_val_score(knn, X, y, cv = 3).mean())\n",
    "\n",
    "print(\"decision tree:\")\n",
    "decision_tree = DecisionTreeClassifier()\n",
    "decision_tree.fit(X, y)\n",
    "print(decision_tree.score(X_test, y_test))\n",
    "\n",
    "print(\"random forest:\")\n",
    "random_forest = RandomForestClassifier(n_estimators = 100)\n",
    "print(cross_val_score(random_forest, X, y, cv = 3).mean())\n",
    "\n",
    "print(\"adaboost:\")\n",
    "adaboost = AdaBoostClassifier(n_estimators = 100)\n",
    "print(cross_val_score(adaboost, X, y, cv = 3).mean())"
   ]
  },
  {
   "cell_type": "markdown",
   "metadata": {},
   "source": [
    "## Parallel random forest"
   ]
  },
  {
   "cell_type": "code",
   "execution_count": 13,
   "metadata": {},
   "outputs": [
    {
     "name": "stdout",
     "output_type": "stream",
     "text": [
      "Accuracy on train set: 0.8089780324737345\n",
      "time cost without parallel: 34.71803951263428\n",
      "Accuracy on train set: 0.8070678127984718\n",
      "time cost with parallel: 11.858999490737915\n"
     ]
    }
   ],
   "source": [
    "from random_forest import RandomForest\n",
    "from decision_tree import DecisionTree\n",
    "from multiprocessing import Pool\n",
    "import time\n",
    "import parallel\n",
    "    \n",
    "if __name__ == '__main__':\n",
    "    n_estimator = 100\n",
    "    \n",
    "    startTime1 = time.time()\n",
    "    base_learner = DecisionTree(criterion='entropy', max_depth=4, min_samples_leaf=2, sample_feature=True)\n",
    "    rf = RandomForest(base_learner=base_learner, n_estimator=n_estimator, seed=2020)\n",
    "    rf.fit(X, y)\n",
    "    y_train_pred = rf.predict(X)\n",
    "    \n",
    "    print(\"Accuracy on train set: {}\".format(accuracy(y, y_train_pred)))\n",
    "    endTime1 = time.time()\n",
    "    print(\"time cost without parallel: {}\".format(endTime1 - startTime1))\n",
    "    \n",
    "    startTime2 = time.time()\n",
    "    pool = Pool(5)\n",
    "    res = []\n",
    "    for i in range(n_estimator):\n",
    "        idx = np.random.choice(X.shape[0], X.shape[0], replace = True)\n",
    "        factors = [(X, y)]\n",
    "        res.append(pool.apply_async(parallel.temp, factors))\n",
    "    pool.close()\n",
    "    pool.join()\n",
    "    \n",
    "    prediction = [result.get() for result in res]\n",
    "    prob = []\n",
    "    label = np.unique(y[:, ])\n",
    "    for i in label:\n",
    "        prob.append((np.array(prediction) == i).mean(axis = 0))\n",
    "\n",
    "    y_pred = label[np.argmax(np.array(prob).T, axis = 1)]\n",
    "    print(\"Accuracy on train set: {}\".format(accuracy(y, y_pred)))\n",
    "    \n",
    "    endTime2 = time.time()\n",
    "    print(\"time cost with parallel: {}\".format(endTime2 - startTime2))"
   ]
  },
  {
   "cell_type": "markdown",
   "metadata": {},
   "source": [
    "##  Implement GBDT (Gradient Boosting Decision Tree)"
   ]
  },
  {
   "cell_type": "code",
   "execution_count": null,
   "metadata": {},
   "outputs": [],
   "source": []
  }
 ],
 "metadata": {
  "kernelspec": {
   "display_name": "Python 3",
   "language": "python",
   "name": "python3"
  },
  "language_info": {
   "codemirror_mode": {
    "name": "ipython",
    "version": 3
   },
   "file_extension": ".py",
   "mimetype": "text/x-python",
   "name": "python",
   "nbconvert_exporter": "python",
   "pygments_lexer": "ipython3",
   "version": "3.7.6"
  }
 },
 "nbformat": 4,
 "nbformat_minor": 4
}
