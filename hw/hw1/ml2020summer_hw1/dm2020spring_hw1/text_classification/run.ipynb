{
 "cells": [
  {
   "cell_type": "markdown",
   "metadata": {},
   "source": [
    "# Text Classification\n",
    "*Complete and hand in this completed worksheet (including its outputs and any supporting code outside of the worksheet) with your assignment submission. Please check the pdf file for more details.*\n",
    "\n",
    "In this exercise you will:\n",
    "    \n",
    "- implement a of spam classifier with **Naive Bayes method** for real world email messages\n",
    "- learn the **training and testing phase** for Naive Bayes classifier  \n",
    "- get an idea of the **precision-recall** tradeoff"
   ]
  },
  {
   "cell_type": "code",
   "execution_count": 1,
   "metadata": {},
   "outputs": [],
   "source": [
    "# some basic imports\n",
    "import numpy as np\n",
    "import matplotlib.pyplot as plt\n",
    "import scipy.sparse\n",
    "%matplotlib inline\n",
    "\n",
    "%load_ext autoreload\n",
    "%autoreload 2"
   ]
  },
  {
   "cell_type": "code",
   "execution_count": 2,
   "metadata": {},
   "outputs": [
    {
     "name": "stderr",
     "output_type": "stream",
     "text": [
      "D:\\Anaconda\\lib\\site-packages\\scipy\\sparse\\_index.py:118: SparseEfficiencyWarning: Changing the sparsity structure of a csr_matrix is expensive. lil_matrix is more efficient.\n",
      "  self._set_arrayXarray_sparse(i, j, x)\n"
     ]
    }
   ],
   "source": [
    "# ham_train contains the occurrences of each word in ham emails. 1-by-N vector\n",
    "ham_train = np.loadtxt('ham_train.csv', delimiter=',')\n",
    "# spam_train contains the occurrences of each word in spam emails. 1-by-N vector\n",
    "spam_train = np.loadtxt('spam_train.csv', delimiter=',')\n",
    "# N is the size of vocabulary.\n",
    "N = ham_train.shape[0]\n",
    "# There 9034 ham emails and 3372 spam emails in the training samples\n",
    "num_ham_train = 9034\n",
    "num_spam_train = 3372\n",
    "# Do smoothing\n",
    "x = np.vstack([ham_train, spam_train]) + 1\n",
    "\n",
    "# ham_test contains the occurences of each word in each ham test email. P-by-N vector, with P is number of ham test emails.\n",
    "i,j,ham_test = np.loadtxt('ham_test.txt').T\n",
    "i = i.astype(np.int)\n",
    "j = j.astype(np.int)\n",
    "#第i个邮件词库第j个单词的位置\n",
    "ham_test_tight = scipy.sparse.coo_matrix((ham_test, (i - 1, j - 1)))\n",
    "ham_test = scipy.sparse.csr_matrix((ham_test_tight.shape[0], ham_train.shape[0]))\n",
    "ham_test[:, 0:ham_test_tight.shape[1]] = ham_test_tight\n",
    "# spam_test contains the occurences of each word in each spam test email. Q-by-N vector, with Q is number of spam test emails.\n",
    "i,j,spam_test = np.loadtxt('spam_test.txt').T\n",
    "i = i.astype(np.int)\n",
    "j = j.astype(np.int)\n",
    "spam_test_tight = scipy.sparse.csr_matrix((spam_test, (i - 1, j - 1)))\n",
    "spam_test = scipy.sparse.csr_matrix((spam_test_tight.shape[0], spam_train.shape[0]))\n",
    "spam_test[:, 0:spam_test_tight.shape[1]] = spam_test_tight\n"
   ]
  },
  {
   "cell_type": "markdown",
   "metadata": {},
   "source": [
    "## Now let's implement a ham/spam email classifier. Please refer to the PDF file for details"
   ]
  },
  {
   "cell_type": "code",
   "execution_count": 3,
   "metadata": {},
   "outputs": [
    {
     "name": "stdout",
     "output_type": "stream",
     "text": [
      "nbsp\n",
      "viagra\n",
      "pills\n",
      "cialis\n",
      "voip\n",
      "php\n",
      "meds\n",
      "computron\n",
      "sex\n",
      "ooking\n"
     ]
    }
   ],
   "source": [
    "from likelihood import likelihood\n",
    "import re\n",
    "# TODO\n",
    "# Implement a ham/spam email classifier, and calculate the accuracy of your classifier\n",
    "\n",
    "# Hint: you can directly do matrix multiply between scipy.sparse.coo_matrix and numpy.array.\n",
    "# Specifically, you can use sparse_matrix * np_array to do this. Note that when you use \"*\" operator\n",
    "# between numpy array, this is typically an elementwise multiply.\n",
    "\n",
    "# begin answer\n",
    "l=likelihood(x)\n",
    "rate=np.zeros(x.shape[0])\n",
    "rate=l[0]/l[1]\n",
    "top10_index = np.argpartition(rate, range(10))[:10]\n",
    "\n",
    "f = open(\"all_word_map.txt\", \"r\", encoding='utf-8')\n",
    "dic = {}\n",
    "for line in f.readlines():\n",
    "    word, index = re.split(re.compile(r'\\s+'), line.strip())\n",
    "    dic[int(index)] = word\n",
    "\n",
    "for index in top10_index:\n",
    "    print(dic[index+1])\n",
    "# end answer"
   ]
  },
  {
   "cell_type": "code",
   "execution_count": 10,
   "metadata": {},
   "outputs": [
    {
     "name": "stdout",
     "output_type": "stream",
     "text": [
      "0.9857315598548972\n",
      "0.9750223015165032 0.9724199288256228\n"
     ]
    }
   ],
   "source": [
    "# prior\n",
    "prior = np.log(np.array([num_ham_train, num_spam_train])/(num_ham_train + num_spam_train))\n",
    "\n",
    "#likelihood\n",
    "ham_likelihood = np.log(l[0]).reshape((-1,1))\n",
    "spam_likelihood = np.log(l[1]).reshape((-1,1))\n",
    "\n",
    "# posterior\n",
    "ham_post1 = np.matmul(ham_test.todense(), ham_likelihood) + prior[0]\n",
    "ham_post2 = np.matmul(ham_test.todense(), spam_likelihood) + prior[1]\n",
    "spam_post1 = np.matmul(spam_test.todense(), spam_likelihood) + prior[1]\n",
    "spam_post2 = np.matmul(spam_test.todense(), ham_likelihood) + prior[0]\n",
    "\n",
    "#accuracy\n",
    "correct_ham = np.sum(ham_post1 > ham_post2)\n",
    "correct_spam = np.sum(spam_post1 > spam_post2)\n",
    "accuracy = (correct_ham + correct_spam) / (ham_test.shape[0] + spam_test.shape[0])\n",
    "print(accuracy)\n",
    "\n",
    "#precision&recall\n",
    "precision = correct_spam / (correct_spam + ham_test.shape[0] - correct_ham)\n",
    "recall = correct_spam / spam_test.shape[0]\n",
    "\n",
    "print(precision, recall)"
   ]
  },
  {
   "cell_type": "code",
   "execution_count": null,
   "metadata": {},
   "outputs": [],
   "source": []
  },
  {
   "cell_type": "code",
   "execution_count": null,
   "metadata": {},
   "outputs": [],
   "source": []
  }
 ],
 "metadata": {
  "kernelspec": {
   "display_name": "Python 3",
   "language": "python",
   "name": "python3"
  },
  "language_info": {
   "codemirror_mode": {
    "name": "ipython",
    "version": 3
   },
   "file_extension": ".py",
   "mimetype": "text/x-python",
   "name": "python",
   "nbconvert_exporter": "python",
   "pygments_lexer": "ipython3",
   "version": "3.7.6"
  }
 },
 "nbformat": 4,
 "nbformat_minor": 4
}
